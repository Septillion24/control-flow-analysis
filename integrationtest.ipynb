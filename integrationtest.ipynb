{
 "cells": [
  {
   "cell_type": "code",
   "execution_count": 1,
   "metadata": {},
   "outputs": [
    {
     "name": "stderr",
     "output_type": "stream",
     "text": [
      "c:\\Development\\Projects\\control-flow-analysis\\.venv\\Lib\\site-packages\\sentence_transformers\\cross_encoder\\CrossEncoder.py:13: TqdmWarning: IProgress not found. Please update jupyter and ipywidgets. See https://ipywidgets.readthedocs.io/en/stable/user_install.html\n",
      "  from tqdm.autonotebook import tqdm, trange\n"
     ]
    }
   ],
   "source": [
    "from torment_nexus import TormentNexus\n",
    "\n"
   ]
  },
  {
   "cell_type": "code",
   "execution_count": 3,
   "metadata": {},
   "outputs": [
    {
     "name": "stdout",
     "output_type": "stream",
     "text": [
      "cuda\n"
     ]
    },
    {
     "name": "stderr",
     "output_type": "stream",
     "text": [
      "c:\\Development\\Projects\\control-flow-analysis\\.venv\\Lib\\site-packages\\transformers\\tokenization_utils_base.py:1601: FutureWarning: `clean_up_tokenization_spaces` was not set. It will be set to `True` by default. This behavior will be depracted in transformers v4.45, and will be then set to `False` by default. For more details check this issue: https://github.com/huggingface/transformers/issues/31884\n",
      "  warnings.warn(\n"
     ]
    },
    {
     "name": "stdout",
     "output_type": "stream",
     "text": [
      "Processing executable ./binaries/malware/crashpad_handler.exe\n"
     ]
    },
    {
     "name": "stderr",
     "output_type": "stream",
     "text": [
      "WARNING  | 2024-10-02 13:29:20,011 | angr.analyses.propagator.engine_vex.SimEnginePropagatorVEX | Unsupported Binop Iop_InterleaveLO8x16.\n",
      "ERROR    | 2024-10-02 13:29:22,348 | angr.analyses.cfg.indirect_jump_resolvers.jumptable.JumpTableProcessor | Unsupported Unop Iop_GetMSBs8x16.\n",
      "ERROR    | 2024-10-02 13:29:22,353 | angr.analyses.propagator.engine_vex.SimEnginePropagatorVEX | Unsupported Unop Iop_GetMSBs8x16.\n",
      "ERROR    | 2024-10-02 13:29:22,361 | angr.analyses.propagator.engine_vex.SimEnginePropagatorVEX | Unsupported Unop Iop_GetMSBs8x16.\n",
      "WARNING  | 2024-10-02 13:29:22,372 | angr.analyses.propagator.engine_vex.SimEnginePropagatorVEX | Unsupported Binop Iop_64HLtoV128.\n",
      "ERROR    | 2024-10-02 13:29:22,372 | angr.analyses.propagator.engine_vex.SimEnginePropagatorVEX | Unsupported Unop Iop_GetMSBs8x16.\n",
      "ERROR    | 2024-10-02 13:29:22,377 | angr.analyses.propagator.engine_vex.SimEnginePropagatorVEX | Unsupported Unop Iop_GetMSBs8x16.\n",
      "ERROR    | 2024-10-02 13:29:22,380 | angr.analyses.propagator.engine_vex.SimEnginePropagatorVEX | Unsupported Unop Iop_GetMSBs8x16.\n",
      "ERROR    | 2024-10-02 13:29:22,406 | angr.analyses.propagator.engine_vex.SimEnginePropagatorVEX | Unsupported Unop Iop_GetMSBs8x16.\n",
      "ERROR    | 2024-10-02 13:29:22,413 | angr.analyses.propagator.engine_vex.SimEnginePropagatorVEX | Unsupported Unop Iop_GetMSBs8x16.\n",
      "ERROR    | 2024-10-02 13:29:22,422 | angr.analyses.propagator.engine_vex.SimEnginePropagatorVEX | Unsupported Unop Iop_GetMSBs8x16.\n",
      "ERROR    | 2024-10-02 13:29:22,425 | angr.analyses.propagator.engine_vex.SimEnginePropagatorVEX | Unsupported Unop Iop_GetMSBs8x16.\n",
      "ERROR    | 2024-10-02 13:29:22,428 | angr.analyses.propagator.engine_vex.SimEnginePropagatorVEX | Unsupported Unop Iop_GetMSBs8x16.\n",
      "ERROR    | 2024-10-02 13:29:22,510 | angr.analyses.cfg.indirect_jump_resolvers.jumptable.JumpTableProcessor | Unsupported Unop Iop_GetMSBs8x16.\n",
      "ERROR    | 2024-10-02 13:29:25,933 | angr.analyses.propagator.engine_vex.SimEnginePropagatorVEX | Unsupported statement type CAS.\n",
      "WARNING  | 2024-10-02 13:29:25,933 | angr.analyses.propagator.engine_vex.SimEnginePropagatorVEX | Unsupported Binop Iop_CasCmpNE64.\n",
      "c:\\Development\\Projects\\control-flow-analysis\\.venv\\Lib\\site-packages\\transformers\\models\\bert\\modeling_bert.py:439: UserWarning: 1Torch was not compiled with flash attention. (Triggered internally at C:\\actions-runner\\_work\\pytorch\\pytorch\\builder\\windows\\pytorch\\aten\\src\\ATen\\native\\transformers\\cuda\\sdp_utils.cpp:555.)\n",
      "  attn_output = torch.nn.functional.scaled_dot_product_attention(\n",
      "c:\\Development\\Projects\\control-flow-analysis\\torment_nexus.py:92: UserWarning: Creating a tensor from a list of numpy.ndarrays is extremely slow. Please consider converting the list to a single numpy.ndarray with numpy.array() before converting to a tensor. (Triggered internally at C:\\actions-runner\\_work\\pytorch\\pytorch\\builder\\windows\\pytorch\\torch\\csrc\\utils\\tensor_new.cpp:281.)\n",
      "  node_embeddings = torch.tensor(nodes, dtype=torch.float)\n"
     ]
    },
    {
     "name": "stdout",
     "output_type": "stream",
     "text": [
      "cuda\n",
      "Processing executable ./binaries/malware/game.exe\n",
      "cuda\n",
      "Processing executable ./binaries/malware/Stacklands.exe\n",
      "cuda\n",
      "Processing executable ./binaries/benign/filmora_setup_full846.exe\n"
     ]
    },
    {
     "name": "stderr",
     "output_type": "stream",
     "text": [
      "WARNING  | 2024-10-02 13:30:03,486 | angr.analyses.propagator.engine_vex.SimEnginePropagatorVEX | Unsupported Binop Iop_I64StoF64.\n",
      "WARNING  | 2024-10-02 13:30:23,340 | angr.analyses.propagator.engine_vex.SimEnginePropagatorVEX | Unsupported Binop Iop_F64toF32.\n",
      "WARNING  | 2024-10-02 13:30:23,346 | angr.analyses.propagator.engine_vex.SimEnginePropagatorVEX | Unsupported Binop Iop_F64toI32S.\n",
      "WARNING  | 2024-10-02 13:30:30,859 | angr.analyses.cfg.indirect_jump_resolvers.jumptable.JumpTableProcessor | Unsupported Binop Iop_CasCmpNE32.\n",
      "ERROR    | 2024-10-02 13:30:30,879 | angr.analyses.propagator.engine_vex.SimEnginePropagatorVEX | Unsupported statement type CAS.\n",
      "ERROR    | 2024-10-02 13:30:30,880 | angr.analyses.propagator.engine_vex.SimEnginePropagatorVEX | Unsupported statement type CAS.\n",
      "ERROR    | 2024-10-02 13:30:31,824 | angr.analyses.propagator.engine_vex.SimEnginePropagatorVEX | Unsupported statement type CAS.\n"
     ]
    },
    {
     "name": "stdout",
     "output_type": "stream",
     "text": [
      "cuda\n"
     ]
    },
    {
     "name": "stderr",
     "output_type": "stream",
     "text": [
      "WARNING  | 2024-10-02 13:31:33,409 | angr.analyses.cfg.indirect_jump_resolvers.x86_pe_iat | Address -0x74e53ffc does not appear to be mapped\n",
      "WARNING  | 2024-10-02 13:31:33,450 | angr.analyses.cfg.indirect_jump_resolvers.x86_pe_iat | Address -0x74e53ffc does not appear to be mapped\n"
     ]
    },
    {
     "name": "stdout",
     "output_type": "stream",
     "text": [
      "Processing executable ./binaries/benign/Firefox Installer.exe\n"
     ]
    },
    {
     "name": "stderr",
     "output_type": "stream",
     "text": [
      "WARNING  | 2024-10-02 13:31:33,607 | angr.analyses.propagator.engine_vex.SimEnginePropagatorVEX | Unsupported Binop Iop_ShrN32x2.\n",
      "ERROR    | 2024-10-02 13:31:33,677 | angr.analyses.propagator.engine_vex.SimEnginePropagatorVEX | Unsupported statement type CAS.\n",
      "WARNING  | 2024-10-02 13:31:33,678 | angr.analyses.propagator.engine_vex.SimEnginePropagatorVEX | Unsupported Binop Iop_CasCmpNE8.\n",
      "WARNING  | 2024-10-02 13:31:33,939 | angr.analyses.propagator.engine_vex.SimEnginePropagatorVEX | Unsupported Binop Iop_F64toI64S.\n",
      "WARNING  | 2024-10-02 13:31:33,986 | angr.engines.vex.claripy.ccall | Operation SBB with condition CondS is not supported in pc_calculate_condition_simple(). Consider implementing.\n",
      "WARNING  | 2024-10-02 13:31:34,010 | angr.engines.vex.claripy.ccall | Operation SBB with condition CondS is not supported in pc_calculate_condition_simple(). Consider implementing.\n",
      "WARNING  | 2024-10-02 13:31:34,035 | angr.engines.vex.claripy.ccall | Operation SBB with condition CondS is not supported in pc_calculate_condition_simple(). Consider implementing.\n",
      "ERROR    | 2024-10-02 13:31:34,351 | angr.analyses.propagator.engine_vex.SimEnginePropagatorVEX | Unsupported statement type CAS.\n",
      "ERROR    | 2024-10-02 13:31:34,352 | angr.analyses.propagator.engine_vex.SimEnginePropagatorVEX | Unsupported statement type CAS.\n",
      "ERROR    | 2024-10-02 13:31:34,353 | angr.analyses.propagator.engine_vex.SimEnginePropagatorVEX | Unsupported statement type CAS.\n",
      "ERROR    | 2024-10-02 13:31:34,541 | angr.analyses.propagator.engine_vex.SimEnginePropagatorVEX | Unsupported statement type CAS.\n",
      "WARNING  | 2024-10-02 13:31:34,651 | angr.analyses.propagator.engine_vex.SimEnginePropagatorVEX | Unsupported Binop Iop_F64toI16S.\n",
      "ERROR    | 2024-10-02 13:31:34,659 | angr.analyses.propagator.engine_vex.SimEnginePropagatorVEX | Unsupported statement type CAS.\n",
      "ERROR    | 2024-10-02 13:31:35,381 | angr.analyses.propagator.engine_vex.SimEnginePropagatorVEX | Unsupported statement type CAS.\n",
      "ERROR    | 2024-10-02 13:31:35,387 | angr.analyses.propagator.engine_vex.SimEnginePropagatorVEX | Unsupported statement type CAS.\n",
      "WARNING  | 2024-10-02 13:31:36,605 | angr.engines.vex.claripy.ccall | Operation LOGIC with condition CondP is not supported in pc_calculate_condition_simple(). Consider implementing.\n",
      "WARNING  | 2024-10-02 13:31:36,629 | angr.engines.vex.claripy.ccall | Operation LOGIC with condition CondP is not supported in pc_calculate_condition_simple(). Consider implementing.\n"
     ]
    },
    {
     "name": "stdout",
     "output_type": "stream",
     "text": [
      "cuda\n",
      "Processing executable ./binaries/benign/VisualStudioSetup.exe\n"
     ]
    },
    {
     "name": "stderr",
     "output_type": "stream",
     "text": [
      "ERROR    | 2024-10-02 13:31:48,646 | angr.analyses.propagator.engine_vex.SimEnginePropagatorVEX | Unsupported statement type CAS.\n",
      "ERROR    | 2024-10-02 13:31:56,865 | angr.analyses.propagator.engine_vex.SimEnginePropagatorVEX | Unsupported statement type CAS.\n"
     ]
    },
    {
     "data": {
      "text/plain": [
       "[Data(x=[2524, 384], edge_index=[2, 7829], dtype=torch.int64, y=1),\n",
       " Data(x=[455, 384], edge_index=[2, 800], dtype=torch.int64, y=1),\n",
       " Data(x=[453, 384], edge_index=[2, 798], dtype=torch.int64, y=1),\n",
       " Data(x=[10865, 384], edge_index=[2, 27960], dtype=torch.int64, y=0),\n",
       " Data(x=[2696, 384], edge_index=[2, 438], dtype=torch.int64, y=0),\n",
       " Data(x=[3155, 384], edge_index=[2, 4358], dtype=torch.int64, y=0)]"
      ]
     },
     "execution_count": 3,
     "metadata": {},
     "output_type": "execute_result"
    }
   ],
   "source": [
    "data = TormentNexus.generate_data_list_from_binaries()\n",
    "data"
   ]
  },
  {
   "cell_type": "code",
   "execution_count": 4,
   "metadata": {},
   "outputs": [],
   "source": [
    "train, test = TormentNexus.get_train_test_split(data)"
   ]
  },
  {
   "cell_type": "code",
   "execution_count": 5,
   "metadata": {},
   "outputs": [
    {
     "data": {
      "text/plain": [
       "[Data(x=[2696, 384], edge_index=[2, 438], dtype=torch.int64, y=0),\n",
       " Data(x=[453, 384], edge_index=[2, 798], dtype=torch.int64, y=1),\n",
       " Data(x=[10865, 384], edge_index=[2, 27960], dtype=torch.int64, y=0),\n",
       " Data(x=[455, 384], edge_index=[2, 800], dtype=torch.int64, y=1)]"
      ]
     },
     "execution_count": 5,
     "metadata": {},
     "output_type": "execute_result"
    }
   ],
   "source": [
    "train"
   ]
  },
  {
   "cell_type": "code",
   "execution_count": 6,
   "metadata": {},
   "outputs": [
    {
     "data": {
      "text/plain": [
       "[Data(x=[2524, 384], edge_index=[2, 7829], dtype=torch.int64, y=1),\n",
       " Data(x=[3155, 384], edge_index=[2, 4358], dtype=torch.int64, y=0)]"
      ]
     },
     "execution_count": 6,
     "metadata": {},
     "output_type": "execute_result"
    }
   ],
   "source": [
    "test"
   ]
  },
  {
   "cell_type": "code",
   "execution_count": null,
   "metadata": {},
   "outputs": [],
   "source": []
  }
 ],
 "metadata": {
  "kernelspec": {
   "display_name": ".venv",
   "language": "python",
   "name": "python3"
  },
  "language_info": {
   "codemirror_mode": {
    "name": "ipython",
    "version": 3
   },
   "file_extension": ".py",
   "mimetype": "text/x-python",
   "name": "python",
   "nbconvert_exporter": "python",
   "pygments_lexer": "ipython3",
   "version": "3.12.2"
  }
 },
 "nbformat": 4,
 "nbformat_minor": 2
}
