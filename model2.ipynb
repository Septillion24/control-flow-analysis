{
 "cells": [
  {
   "cell_type": "code",
   "execution_count": 27,
   "metadata": {},
   "outputs": [
    {
     "name": "stdout",
     "output_type": "stream",
     "text": [
      "cpu\n"
     ]
    },
    {
     "name": "stderr",
     "output_type": "stream",
     "text": [
      "c:\\Development\\Projects\\control-flow-analysis\\.venv\\Lib\\site-packages\\transformers\\tokenization_utils_base.py:1601: FutureWarning: `clean_up_tokenization_spaces` was not set. It will be set to `True` by default. This behavior will be depracted in transformers v4.45, and will be then set to `False` by default. For more details check this issue: https://github.com/huggingface/transformers/issues/31884\n",
      "  warnings.warn(\n"
     ]
    },
    {
     "name": "stdout",
     "output_type": "stream",
     "text": [
      "Processing executable ./binaries/malware/crashpad_handler.exe\n"
     ]
    },
    {
     "name": "stderr",
     "output_type": "stream",
     "text": [
      "ERROR    | 2024-09-30 10:23:04,089 | angr.analyses.propagator.engine_vex.SimEnginePropagatorVEX | Unsupported Unop Iop_GetMSBs8x16.\n",
      "ERROR    | 2024-09-30 10:23:04,096 | angr.analyses.propagator.engine_vex.SimEnginePropagatorVEX | Unsupported Unop Iop_GetMSBs8x16.\n",
      "ERROR    | 2024-09-30 10:23:04,106 | angr.analyses.propagator.engine_vex.SimEnginePropagatorVEX | Unsupported Unop Iop_GetMSBs8x16.\n",
      "ERROR    | 2024-09-30 10:23:04,110 | angr.analyses.propagator.engine_vex.SimEnginePropagatorVEX | Unsupported Unop Iop_GetMSBs8x16.\n",
      "ERROR    | 2024-09-30 10:23:04,111 | angr.analyses.propagator.engine_vex.SimEnginePropagatorVEX | Unsupported Unop Iop_GetMSBs8x16.\n",
      "ERROR    | 2024-09-30 10:23:04,200 | angr.analyses.cfg.indirect_jump_resolvers.jumptable.JumpTableProcessor | Unsupported Unop Iop_GetMSBs8x16.\n",
      "ERROR    | 2024-09-30 10:23:04,274 | angr.analyses.propagator.engine_vex.SimEnginePropagatorVEX | Unsupported Unop Iop_GetMSBs8x16.\n",
      "ERROR    | 2024-09-30 10:23:04,282 | angr.analyses.propagator.engine_vex.SimEnginePropagatorVEX | Unsupported Unop Iop_GetMSBs8x16.\n",
      "ERROR    | 2024-09-30 10:23:04,293 | angr.analyses.propagator.engine_vex.SimEnginePropagatorVEX | Unsupported Unop Iop_GetMSBs8x16.\n",
      "ERROR    | 2024-09-30 10:23:04,297 | angr.analyses.propagator.engine_vex.SimEnginePropagatorVEX | Unsupported Unop Iop_GetMSBs8x16.\n",
      "ERROR    | 2024-09-30 10:23:04,299 | angr.analyses.propagator.engine_vex.SimEnginePropagatorVEX | Unsupported Unop Iop_GetMSBs8x16.\n",
      "ERROR    | 2024-09-30 10:23:04,326 | angr.analyses.cfg.indirect_jump_resolvers.jumptable.JumpTableProcessor | Unsupported Unop Iop_GetMSBs8x16.\n",
      "ERROR    | 2024-09-30 10:23:07,298 | angr.analyses.propagator.engine_vex.SimEnginePropagatorVEX | Unsupported statement type CAS.\n"
     ]
    },
    {
     "name": "stdout",
     "output_type": "stream",
     "text": [
      "1\n",
      "Processing executable ./binaries/malware/game.exe\n",
      "1\n",
      "Processing executable ./binaries/malware/Stacklands.exe\n",
      "1\n",
      "Processing executable ./binaries/benign/filmora_setup_full846.exe\n"
     ]
    },
    {
     "name": "stderr",
     "output_type": "stream",
     "text": [
      "ERROR    | 2024-09-30 10:25:00,241 | angr.analyses.propagator.engine_vex.SimEnginePropagatorVEX | Unsupported statement type CAS.\n",
      "ERROR    | 2024-09-30 10:25:00,242 | angr.analyses.propagator.engine_vex.SimEnginePropagatorVEX | Unsupported statement type CAS.\n",
      "ERROR    | 2024-09-30 10:25:01,276 | angr.analyses.propagator.engine_vex.SimEnginePropagatorVEX | Unsupported statement type CAS.\n",
      "WARNING  | 2024-09-30 10:27:01,925 | angr.analyses.cfg.indirect_jump_resolvers.x86_pe_iat | Address -0x74e53ffc does not appear to be mapped\n",
      "WARNING  | 2024-09-30 10:27:01,968 | angr.analyses.cfg.indirect_jump_resolvers.x86_pe_iat | Address -0x74e53ffc does not appear to be mapped\n"
     ]
    },
    {
     "name": "stdout",
     "output_type": "stream",
     "text": [
      "0\n",
      "Processing executable ./binaries/benign/Firefox Installer.exe\n"
     ]
    },
    {
     "name": "stderr",
     "output_type": "stream",
     "text": [
      "ERROR    | 2024-09-30 10:27:02,195 | angr.analyses.propagator.engine_vex.SimEnginePropagatorVEX | Unsupported statement type CAS.\n",
      "WARNING  | 2024-09-30 10:27:02,490 | angr.engines.vex.claripy.ccall | Operation SBB with condition CondS is not supported in pc_calculate_condition_simple(). Consider implementing.\n",
      "WARNING  | 2024-09-30 10:27:02,513 | angr.engines.vex.claripy.ccall | Operation SBB with condition CondS is not supported in pc_calculate_condition_simple(). Consider implementing.\n",
      "WARNING  | 2024-09-30 10:27:02,535 | angr.engines.vex.claripy.ccall | Operation SBB with condition CondS is not supported in pc_calculate_condition_simple(). Consider implementing.\n",
      "ERROR    | 2024-09-30 10:27:02,854 | angr.analyses.propagator.engine_vex.SimEnginePropagatorVEX | Unsupported statement type CAS.\n",
      "ERROR    | 2024-09-30 10:27:02,856 | angr.analyses.propagator.engine_vex.SimEnginePropagatorVEX | Unsupported statement type CAS.\n",
      "ERROR    | 2024-09-30 10:27:02,857 | angr.analyses.propagator.engine_vex.SimEnginePropagatorVEX | Unsupported statement type CAS.\n",
      "ERROR    | 2024-09-30 10:27:03,046 | angr.analyses.propagator.engine_vex.SimEnginePropagatorVEX | Unsupported statement type CAS.\n",
      "ERROR    | 2024-09-30 10:27:03,163 | angr.analyses.propagator.engine_vex.SimEnginePropagatorVEX | Unsupported statement type CAS.\n",
      "ERROR    | 2024-09-30 10:27:16,933 | angr.analyses.propagator.engine_vex.SimEnginePropagatorVEX | Unsupported statement type CAS.\n",
      "ERROR    | 2024-09-30 10:27:16,938 | angr.analyses.propagator.engine_vex.SimEnginePropagatorVEX | Unsupported statement type CAS.\n",
      "WARNING  | 2024-09-30 10:27:18,186 | angr.engines.vex.claripy.ccall | Operation LOGIC with condition CondP is not supported in pc_calculate_condition_simple(). Consider implementing.\n",
      "WARNING  | 2024-09-30 10:27:18,212 | angr.engines.vex.claripy.ccall | Operation LOGIC with condition CondP is not supported in pc_calculate_condition_simple(). Consider implementing.\n"
     ]
    },
    {
     "name": "stdout",
     "output_type": "stream",
     "text": [
      "0\n",
      "Processing executable ./binaries/benign/VisualStudioSetup.exe\n"
     ]
    },
    {
     "name": "stderr",
     "output_type": "stream",
     "text": [
      "ERROR    | 2024-09-30 10:27:40,865 | angr.analyses.propagator.engine_vex.SimEnginePropagatorVEX | Unsupported statement type CAS.\n",
      "ERROR    | 2024-09-30 10:27:45,211 | angr.analyses.propagator.engine_vex.SimEnginePropagatorVEX | Unsupported statement type CAS.\n"
     ]
    },
    {
     "name": "stdout",
     "output_type": "stream",
     "text": [
      "0\n"
     ]
    }
   ],
   "source": [
    "import os\n",
    "import angr\n",
    "import torch\n",
    "from sentence_transformers import SentenceTransformer\n",
    "from torch_geometric.data import Data\n",
    "from sklearn.model_selection import train_test_split  # Added import for data splitting\n",
    "\n",
    "binary_dir = './binaries'\n",
    "device = torch.device('cuda' if torch.cuda.is_available() else 'cpu')\n",
    "print(device)\n",
    "\n",
    "data_list = []\n",
    "\n",
    "# Use a code-aware embedding model if available\n",
    "model = SentenceTransformer('sentence-transformers/all-MiniLM-L6-v2')  # Can replace with a code-specific model\n",
    "model = model.to(device) \n",
    "\n",
    "def preprocessBinary(binary_file:str, isMalware: bool) -> Data:\n",
    "    if binary_file.endswith('.exe'):\n",
    "        print(f\"Processing executable {binary_file}\")\n",
    "        angr_project = angr.Project(binary_file, auto_load_libs=False)\n",
    "        cfg = angr_project.analyses.CFGFast() \n",
    "\n",
    "        functions = list(angr_project.kb.functions.values())\n",
    "        function_addr_to_index = {function.addr: idx for idx, function in enumerate(functions)}  # Simplified mapping\n",
    "\n",
    "        nodes = []\n",
    "        for function in functions:\n",
    "            # Extract function features\n",
    "            # For example, get instruction mnemonics\n",
    "            instructions = []\n",
    "            for block in function.blocks:\n",
    "                capstone_block = block.capstone\n",
    "                for insn in capstone_block.insns:\n",
    "                    instructions.append(insn.mnemonic)\n",
    "            instruction_sequence = ' '.join(instructions)\n",
    "\n",
    "            # Use instruction sequence or function name for embedding\n",
    "            embedding = model.encode(instruction_sequence)\n",
    "            nodes.append(embedding)\n",
    "\n",
    "        # Build edges based on function calls using the call graph\n",
    "        edge_index = []\n",
    "        callgraph = angr_project.kb.callgraph  # Use the call graph from the knowledge base\n",
    "        for src_addr, dst_addr in callgraph.edges():\n",
    "            src_idx = function_addr_to_index.get(src_addr)\n",
    "            dst_idx = function_addr_to_index.get(dst_addr)\n",
    "            if src_idx is not None and dst_idx is not None:\n",
    "                edge_index.append([src_idx, dst_idx])\n",
    "\n",
    "        node_embeddings = torch.tensor(nodes, dtype=torch.float)\n",
    "        if len(edge_index) == 0:\n",
    "            edge_index = torch.empty((2, 0), dtype=torch.long)\n",
    "        else:\n",
    "            edge_index = torch.tensor(edge_index, dtype=torch.long).t().contiguous()\n",
    "\n",
    "        label = 1 if isMalware else 0\n",
    "        print(label)\n",
    "        data = Data(x=node_embeddings, edge_index=edge_index, y=torch.tensor([label], dtype=torch.long))\n",
    "        return data\n",
    "\n",
    "for binary_file in os.listdir(f\"{binary_dir}/malware\"):\n",
    "    data = preprocessBinary(f\"{binary_dir}/malware/{binary_file}\", True)\n",
    "    data_list.append(data)\n",
    "\n",
    "for binary_file in os.listdir(f\"{binary_dir}/benign\"):\n",
    "    data = preprocessBinary(f\"{binary_dir}/benign/{binary_file}\", False)\n",
    "    data_list.append(data)\n",
    "\n",
    "\n",
    "# Split data into train and test sets\n",
    "train_data, test_data = train_test_split(\n",
    "    data_list, test_size=0.2, random_state=42,\n",
    "    stratify=[d.y.item() for d in data_list]\n",
    ")  # Added data splitting"
   ]
  },
  {
   "cell_type": "code",
   "execution_count": 25,
   "metadata": {},
   "outputs": [
    {
     "data": {
      "text/plain": [
       "[Data(x=[2696, 384], edge_index=[2, 438], y=[1]),\n",
       " Data(x=[453, 384], edge_index=[2, 798], y=[1]),\n",
       " Data(x=[10865, 384], edge_index=[2, 27960], y=[1]),\n",
       " Data(x=[455, 384], edge_index=[2, 800], y=[1])]"
      ]
     },
     "execution_count": 25,
     "metadata": {},
     "output_type": "execute_result"
    }
   ],
   "source": [
    "train_data"
   ]
  },
  {
   "cell_type": "code",
   "execution_count": 26,
   "metadata": {},
   "outputs": [
    {
     "data": {
      "text/plain": [
       "[Data(x=[2524, 384], edge_index=[2, 7829], y=[1]),\n",
       " Data(x=[3155, 384], edge_index=[2, 4358], y=[1])]"
      ]
     },
     "execution_count": 26,
     "metadata": {},
     "output_type": "execute_result"
    }
   ],
   "source": [
    "test_data"
   ]
  },
  {
   "cell_type": "code",
   "execution_count": 28,
   "metadata": {},
   "outputs": [],
   "source": [
    "import torch\n",
    "import torch.nn.functional as F\n",
    "from torch_geometric.nn import GINConv, global_add_pool\n",
    "\n",
    "class GIN(torch.nn.Module):\n",
    "    def __init__(self):\n",
    "        super(GIN, self).__init__()\n",
    "        self.conv1 = GINConv(\n",
    "            torch.nn.Sequential(\n",
    "                torch.nn.Linear(384, 128),  # Changed input dimension to match embedding size and output to 128\n",
    "                torch.nn.ReLU(),\n",
    "                torch.nn.Linear(128, 128)\n",
    "            )\n",
    "        )\n",
    "        self.conv2 = GINConv(\n",
    "            torch.nn.Sequential(\n",
    "                torch.nn.Linear(128, 128),\n",
    "                torch.nn.ReLU(),\n",
    "                torch.nn.Linear(128, 128)\n",
    "            )\n",
    "        )\n",
    "        self.conv3 = GINConv(  # Added an additional convolutional layer\n",
    "            torch.nn.Sequential(\n",
    "                torch.nn.Linear(128, 128),\n",
    "                torch.nn.ReLU(),\n",
    "                torch.nn.Linear(128, 128)\n",
    "            )\n",
    "        )\n",
    "        self.fc1 = torch.nn.Linear(128, 64)  # Adjusted dimensions\n",
    "        self.fc2 = torch.nn.Linear(64, 2)  # Output remains 2 for binary classification\n",
    "\n",
    "    def forward(self, data):\n",
    "        x, edge_index, batch = data.x, data.edge_index, data.batch  # Added batch extraction\n",
    "        x = self.conv1(x, edge_index)\n",
    "        x = F.relu(x)\n",
    "        x = self.conv2(x, edge_index)\n",
    "        x = F.relu(x)\n",
    "        x = self.conv3(x, edge_index)  # Added an additional layer\n",
    "        x = F.relu(x)\n",
    "\n",
    "        x = global_add_pool(x, batch)\n",
    "        \n",
    "        x = F.relu(self.fc1(x))\n",
    "        x = self.fc2(x)\n",
    "        return F.log_softmax(x, dim=1)\n",
    "\n",
    "model = GIN()\n"
   ]
  },
  {
   "cell_type": "code",
   "execution_count": 29,
   "metadata": {},
   "outputs": [
    {
     "name": "stdout",
     "output_type": "stream",
     "text": [
      "Epoch 1/10\n",
      "              precision    recall  f1-score   support\n",
      "\n",
      "           0       0.50      1.00      0.67         1\n",
      "           1       0.00      0.00      0.00         1\n",
      "\n",
      "    accuracy                           0.50         2\n",
      "   macro avg       0.25      0.50      0.33         2\n",
      "weighted avg       0.25      0.50      0.33         2\n",
      "\n",
      "Epoch 2/10\n",
      "              precision    recall  f1-score   support\n",
      "\n",
      "           0       1.00      1.00      1.00         1\n",
      "           1       1.00      1.00      1.00         1\n",
      "\n",
      "    accuracy                           1.00         2\n",
      "   macro avg       1.00      1.00      1.00         2\n",
      "weighted avg       1.00      1.00      1.00         2\n",
      "\n"
     ]
    },
    {
     "name": "stderr",
     "output_type": "stream",
     "text": [
      "c:\\Development\\Projects\\control-flow-analysis\\.venv\\Lib\\site-packages\\sklearn\\metrics\\_classification.py:1531: UndefinedMetricWarning: Precision is ill-defined and being set to 0.0 in labels with no predicted samples. Use `zero_division` parameter to control this behavior.\n",
      "  _warn_prf(average, modifier, f\"{metric.capitalize()} is\", len(result))\n",
      "c:\\Development\\Projects\\control-flow-analysis\\.venv\\Lib\\site-packages\\sklearn\\metrics\\_classification.py:1531: UndefinedMetricWarning: Precision is ill-defined and being set to 0.0 in labels with no predicted samples. Use `zero_division` parameter to control this behavior.\n",
      "  _warn_prf(average, modifier, f\"{metric.capitalize()} is\", len(result))\n",
      "c:\\Development\\Projects\\control-flow-analysis\\.venv\\Lib\\site-packages\\sklearn\\metrics\\_classification.py:1531: UndefinedMetricWarning: Precision is ill-defined and being set to 0.0 in labels with no predicted samples. Use `zero_division` parameter to control this behavior.\n",
      "  _warn_prf(average, modifier, f\"{metric.capitalize()} is\", len(result))\n",
      "c:\\Development\\Projects\\control-flow-analysis\\.venv\\Lib\\site-packages\\sklearn\\metrics\\_classification.py:1531: UndefinedMetricWarning: Precision is ill-defined and being set to 0.0 in labels with no predicted samples. Use `zero_division` parameter to control this behavior.\n",
      "  _warn_prf(average, modifier, f\"{metric.capitalize()} is\", len(result))\n",
      "c:\\Development\\Projects\\control-flow-analysis\\.venv\\Lib\\site-packages\\sklearn\\metrics\\_classification.py:1531: UndefinedMetricWarning: Precision is ill-defined and being set to 0.0 in labels with no predicted samples. Use `zero_division` parameter to control this behavior.\n",
      "  _warn_prf(average, modifier, f\"{metric.capitalize()} is\", len(result))\n",
      "c:\\Development\\Projects\\control-flow-analysis\\.venv\\Lib\\site-packages\\sklearn\\metrics\\_classification.py:1531: UndefinedMetricWarning: Precision is ill-defined and being set to 0.0 in labels with no predicted samples. Use `zero_division` parameter to control this behavior.\n",
      "  _warn_prf(average, modifier, f\"{metric.capitalize()} is\", len(result))\n"
     ]
    },
    {
     "name": "stdout",
     "output_type": "stream",
     "text": [
      "Epoch 3/10\n",
      "              precision    recall  f1-score   support\n",
      "\n",
      "           0       0.00      0.00      0.00         1\n",
      "           1       0.50      1.00      0.67         1\n",
      "\n",
      "    accuracy                           0.50         2\n",
      "   macro avg       0.25      0.50      0.33         2\n",
      "weighted avg       0.25      0.50      0.33         2\n",
      "\n",
      "Epoch 4/10\n",
      "              precision    recall  f1-score   support\n",
      "\n",
      "           0       1.00      1.00      1.00         1\n",
      "           1       1.00      1.00      1.00         1\n",
      "\n",
      "    accuracy                           1.00         2\n",
      "   macro avg       1.00      1.00      1.00         2\n",
      "weighted avg       1.00      1.00      1.00         2\n",
      "\n",
      "Epoch 5/10\n",
      "              precision    recall  f1-score   support\n",
      "\n",
      "           0       0.50      1.00      0.67         1\n",
      "           1       0.00      0.00      0.00         1\n",
      "\n",
      "    accuracy                           0.50         2\n",
      "   macro avg       0.25      0.50      0.33         2\n",
      "weighted avg       0.25      0.50      0.33         2\n",
      "\n"
     ]
    },
    {
     "name": "stderr",
     "output_type": "stream",
     "text": [
      "c:\\Development\\Projects\\control-flow-analysis\\.venv\\Lib\\site-packages\\sklearn\\metrics\\_classification.py:1531: UndefinedMetricWarning: Precision is ill-defined and being set to 0.0 in labels with no predicted samples. Use `zero_division` parameter to control this behavior.\n",
      "  _warn_prf(average, modifier, f\"{metric.capitalize()} is\", len(result))\n",
      "c:\\Development\\Projects\\control-flow-analysis\\.venv\\Lib\\site-packages\\sklearn\\metrics\\_classification.py:1531: UndefinedMetricWarning: Precision is ill-defined and being set to 0.0 in labels with no predicted samples. Use `zero_division` parameter to control this behavior.\n",
      "  _warn_prf(average, modifier, f\"{metric.capitalize()} is\", len(result))\n",
      "c:\\Development\\Projects\\control-flow-analysis\\.venv\\Lib\\site-packages\\sklearn\\metrics\\_classification.py:1531: UndefinedMetricWarning: Precision is ill-defined and being set to 0.0 in labels with no predicted samples. Use `zero_division` parameter to control this behavior.\n",
      "  _warn_prf(average, modifier, f\"{metric.capitalize()} is\", len(result))\n"
     ]
    },
    {
     "name": "stdout",
     "output_type": "stream",
     "text": [
      "Epoch 6/10\n",
      "              precision    recall  f1-score   support\n",
      "\n",
      "           0       0.50      1.00      0.67         1\n",
      "           1       0.00      0.00      0.00         1\n",
      "\n",
      "    accuracy                           0.50         2\n",
      "   macro avg       0.25      0.50      0.33         2\n",
      "weighted avg       0.25      0.50      0.33         2\n",
      "\n",
      "Epoch 7/10\n",
      "              precision    recall  f1-score   support\n",
      "\n",
      "           0       0.50      1.00      0.67         1\n",
      "           1       0.00      0.00      0.00         1\n",
      "\n",
      "    accuracy                           0.50         2\n",
      "   macro avg       0.25      0.50      0.33         2\n",
      "weighted avg       0.25      0.50      0.33         2\n",
      "\n"
     ]
    },
    {
     "name": "stderr",
     "output_type": "stream",
     "text": [
      "c:\\Development\\Projects\\control-flow-analysis\\.venv\\Lib\\site-packages\\sklearn\\metrics\\_classification.py:1531: UndefinedMetricWarning: Precision is ill-defined and being set to 0.0 in labels with no predicted samples. Use `zero_division` parameter to control this behavior.\n",
      "  _warn_prf(average, modifier, f\"{metric.capitalize()} is\", len(result))\n",
      "c:\\Development\\Projects\\control-flow-analysis\\.venv\\Lib\\site-packages\\sklearn\\metrics\\_classification.py:1531: UndefinedMetricWarning: Precision is ill-defined and being set to 0.0 in labels with no predicted samples. Use `zero_division` parameter to control this behavior.\n",
      "  _warn_prf(average, modifier, f\"{metric.capitalize()} is\", len(result))\n",
      "c:\\Development\\Projects\\control-flow-analysis\\.venv\\Lib\\site-packages\\sklearn\\metrics\\_classification.py:1531: UndefinedMetricWarning: Precision is ill-defined and being set to 0.0 in labels with no predicted samples. Use `zero_division` parameter to control this behavior.\n",
      "  _warn_prf(average, modifier, f\"{metric.capitalize()} is\", len(result))\n",
      "c:\\Development\\Projects\\control-flow-analysis\\.venv\\Lib\\site-packages\\sklearn\\metrics\\_classification.py:1531: UndefinedMetricWarning: Precision is ill-defined and being set to 0.0 in labels with no predicted samples. Use `zero_division` parameter to control this behavior.\n",
      "  _warn_prf(average, modifier, f\"{metric.capitalize()} is\", len(result))\n",
      "c:\\Development\\Projects\\control-flow-analysis\\.venv\\Lib\\site-packages\\sklearn\\metrics\\_classification.py:1531: UndefinedMetricWarning: Precision is ill-defined and being set to 0.0 in labels with no predicted samples. Use `zero_division` parameter to control this behavior.\n",
      "  _warn_prf(average, modifier, f\"{metric.capitalize()} is\", len(result))\n",
      "c:\\Development\\Projects\\control-flow-analysis\\.venv\\Lib\\site-packages\\sklearn\\metrics\\_classification.py:1531: UndefinedMetricWarning: Precision is ill-defined and being set to 0.0 in labels with no predicted samples. Use `zero_division` parameter to control this behavior.\n",
      "  _warn_prf(average, modifier, f\"{metric.capitalize()} is\", len(result))\n"
     ]
    },
    {
     "name": "stdout",
     "output_type": "stream",
     "text": [
      "Epoch 8/10\n",
      "              precision    recall  f1-score   support\n",
      "\n",
      "           0       0.50      1.00      0.67         1\n",
      "           1       0.00      0.00      0.00         1\n",
      "\n",
      "    accuracy                           0.50         2\n",
      "   macro avg       0.25      0.50      0.33         2\n",
      "weighted avg       0.25      0.50      0.33         2\n",
      "\n",
      "Epoch 9/10\n",
      "              precision    recall  f1-score   support\n",
      "\n",
      "           0       0.50      1.00      0.67         1\n",
      "           1       0.00      0.00      0.00         1\n",
      "\n",
      "    accuracy                           0.50         2\n",
      "   macro avg       0.25      0.50      0.33         2\n",
      "weighted avg       0.25      0.50      0.33         2\n",
      "\n",
      "Epoch 10/10\n",
      "              precision    recall  f1-score   support\n",
      "\n",
      "           0       0.50      1.00      0.67         1\n",
      "           1       0.00      0.00      0.00         1\n",
      "\n",
      "    accuracy                           0.50         2\n",
      "   macro avg       0.25      0.50      0.33         2\n",
      "weighted avg       0.25      0.50      0.33         2\n",
      "\n"
     ]
    },
    {
     "name": "stderr",
     "output_type": "stream",
     "text": [
      "c:\\Development\\Projects\\control-flow-analysis\\.venv\\Lib\\site-packages\\sklearn\\metrics\\_classification.py:1531: UndefinedMetricWarning: Precision is ill-defined and being set to 0.0 in labels with no predicted samples. Use `zero_division` parameter to control this behavior.\n",
      "  _warn_prf(average, modifier, f\"{metric.capitalize()} is\", len(result))\n",
      "c:\\Development\\Projects\\control-flow-analysis\\.venv\\Lib\\site-packages\\sklearn\\metrics\\_classification.py:1531: UndefinedMetricWarning: Precision is ill-defined and being set to 0.0 in labels with no predicted samples. Use `zero_division` parameter to control this behavior.\n",
      "  _warn_prf(average, modifier, f\"{metric.capitalize()} is\", len(result))\n",
      "c:\\Development\\Projects\\control-flow-analysis\\.venv\\Lib\\site-packages\\sklearn\\metrics\\_classification.py:1531: UndefinedMetricWarning: Precision is ill-defined and being set to 0.0 in labels with no predicted samples. Use `zero_division` parameter to control this behavior.\n",
      "  _warn_prf(average, modifier, f\"{metric.capitalize()} is\", len(result))\n",
      "c:\\Development\\Projects\\control-flow-analysis\\.venv\\Lib\\site-packages\\sklearn\\metrics\\_classification.py:1531: UndefinedMetricWarning: Precision is ill-defined and being set to 0.0 in labels with no predicted samples. Use `zero_division` parameter to control this behavior.\n",
      "  _warn_prf(average, modifier, f\"{metric.capitalize()} is\", len(result))\n",
      "c:\\Development\\Projects\\control-flow-analysis\\.venv\\Lib\\site-packages\\sklearn\\metrics\\_classification.py:1531: UndefinedMetricWarning: Precision is ill-defined and being set to 0.0 in labels with no predicted samples. Use `zero_division` parameter to control this behavior.\n",
      "  _warn_prf(average, modifier, f\"{metric.capitalize()} is\", len(result))\n",
      "c:\\Development\\Projects\\control-flow-analysis\\.venv\\Lib\\site-packages\\sklearn\\metrics\\_classification.py:1531: UndefinedMetricWarning: Precision is ill-defined and being set to 0.0 in labels with no predicted samples. Use `zero_division` parameter to control this behavior.\n",
      "  _warn_prf(average, modifier, f\"{metric.capitalize()} is\", len(result))\n",
      "c:\\Development\\Projects\\control-flow-analysis\\.venv\\Lib\\site-packages\\sklearn\\metrics\\_classification.py:1531: UndefinedMetricWarning: Precision is ill-defined and being set to 0.0 in labels with no predicted samples. Use `zero_division` parameter to control this behavior.\n",
      "  _warn_prf(average, modifier, f\"{metric.capitalize()} is\", len(result))\n",
      "c:\\Development\\Projects\\control-flow-analysis\\.venv\\Lib\\site-packages\\sklearn\\metrics\\_classification.py:1531: UndefinedMetricWarning: Precision is ill-defined and being set to 0.0 in labels with no predicted samples. Use `zero_division` parameter to control this behavior.\n",
      "  _warn_prf(average, modifier, f\"{metric.capitalize()} is\", len(result))\n",
      "c:\\Development\\Projects\\control-flow-analysis\\.venv\\Lib\\site-packages\\sklearn\\metrics\\_classification.py:1531: UndefinedMetricWarning: Precision is ill-defined and being set to 0.0 in labels with no predicted samples. Use `zero_division` parameter to control this behavior.\n",
      "  _warn_prf(average, modifier, f\"{metric.capitalize()} is\", len(result))\n"
     ]
    }
   ],
   "source": [
    "from torch_geometric.loader import DataLoader\n",
    "from sklearn.metrics import classification_report  # Added import for evaluation\n",
    "\n",
    "train_loader = DataLoader(train_data, batch_size=32, shuffle=True)  # Changed to use train_data\n",
    "test_loader = DataLoader(test_data, batch_size=32, shuffle=False)  # Added test_loader\n",
    "\n",
    "optimizer = torch.optim.Adam(model.parameters(), lr=0.001)\n",
    "loss_fn = torch.nn.CrossEntropyLoss()\n",
    "\n",
    "epochs = 10\n",
    "\n",
    "for epoch in range(epochs):\n",
    "    model.train()  # Set model to training mode\n",
    "    for batch in train_loader:\n",
    "        optimizer.zero_grad()\n",
    "        output = model(batch)\n",
    "        loss = loss_fn(output, batch.y)\n",
    "        loss.backward()\n",
    "        optimizer.step()\n",
    "    # Evaluate on test set after each epoch\n",
    "    model.eval()\n",
    "    all_preds = []\n",
    "    all_labels = []\n",
    "    with torch.no_grad():\n",
    "        for batch in test_loader:\n",
    "            output = model(batch)\n",
    "            preds = output.argmax(dim=1)\n",
    "            all_preds.extend(preds.cpu().numpy())\n",
    "            all_labels.extend(batch.y.cpu().numpy())\n",
    "    print(f\"Epoch {epoch+1}/{epochs}\")\n",
    "    print(classification_report(all_labels, all_preds))  # Added evaluation\n"
   ]
  },
  {
   "cell_type": "code",
   "execution_count": 30,
   "metadata": {},
   "outputs": [
    {
     "name": "stdout",
     "output_type": "stream",
     "text": [
      "Model weights saved to ./gin_model_weights.pth\n"
     ]
    }
   ],
   "source": [
    "# Save the model weights after training\n",
    "model_path = './gin_model_weights.pth'\n",
    "torch.save(model.state_dict(), model_path)\n",
    "print(f\"Model weights saved to {model_path}\")\n"
   ]
  },
  {
   "cell_type": "code",
   "execution_count": 35,
   "metadata": {},
   "outputs": [
    {
     "name": "stderr",
     "output_type": "stream",
     "text": [
      "C:\\Users\\noahg\\AppData\\Local\\Temp\\ipykernel_25936\\4160699208.py:14: FutureWarning: You are using `torch.load` with `weights_only=False` (the current default value), which uses the default pickle module implicitly. It is possible to construct malicious pickle data which will execute arbitrary code during unpickling (See https://github.com/pytorch/pytorch/blob/main/SECURITY.md#untrusted-models for more details). In a future release, the default value for `weights_only` will be flipped to `True`. This limits the functions that could be executed during unpickling. Arbitrary objects will no longer be allowed to be loaded via this mode unless they are explicitly allowlisted by the user via `torch.serialization.add_safe_globals`. We recommend you start setting `weights_only=True` for any use case where you don't have full control of the loaded file. Please open an issue on GitHub for any issues related to this experimental feature.\n",
      "  model.load_state_dict(torch.load('./gin_model_weights.pth'))  # Load the weights\n"
     ]
    },
    {
     "name": "stdout",
     "output_type": "stream",
     "text": [
      "Prediction for the binary: Benign\n"
     ]
    }
   ],
   "source": [
    "import os\n",
    "import angr\n",
    "import torch\n",
    "from sentence_transformers import SentenceTransformer\n",
    "from torch_geometric.data import Data\n",
    "\n",
    "binary_file_path = './binaries/malware/game.exe'  # Path to the new binary file\n",
    "\n",
    "# Load the embedding model\n",
    "embedding_model = SentenceTransformer('sentence-transformers/all-MiniLM-L6-v2')\n",
    "\n",
    "# Load the pre-trained GIN model\n",
    "model = GIN()\n",
    "model.load_state_dict(torch.load('./gin_model_weights.pth'))  # Load the weights\n",
    "model.eval()\n",
    "\n",
    "# Process the new binary file\n",
    "angr_project = angr.Project(binary_file_path, auto_load_libs=False)\n",
    "cfg = angr_project.analyses.CFGFast()\n",
    "\n",
    "functions = list(angr_project.kb.functions.values())\n",
    "function_addr_to_index = {function.addr: idx for idx, function in enumerate(functions)}\n",
    "\n",
    "nodes = []\n",
    "for function in functions:\n",
    "    instructions = []\n",
    "    for block in function.blocks:\n",
    "        capstone_block = block.capstone\n",
    "        for insn in capstone_block.insns:\n",
    "            instructions.append(insn.mnemonic)\n",
    "    instruction_sequence = ' '.join(instructions)\n",
    "    \n",
    "    # Generate the embedding using the SentenceTransformer model\n",
    "    embedding = embedding_model.encode(instruction_sequence)\n",
    "    nodes.append(embedding)\n",
    "\n",
    "# Create edge_index based on function calls\n",
    "edge_index = []\n",
    "callgraph = angr_project.kb.callgraph\n",
    "for src_addr, dst_addr in callgraph.edges():\n",
    "    src_idx = function_addr_to_index.get(src_addr)\n",
    "    dst_idx = function_addr_to_index.get(dst_addr)\n",
    "    if src_idx is not None and dst_idx is not None:\n",
    "        edge_index.append([src_idx, dst_idx])\n",
    "\n",
    "node_embeddings = torch.tensor(nodes, dtype=torch.float)\n",
    "edge_index = torch.tensor(edge_index, dtype=torch.long).t().contiguous() if edge_index else torch.empty((2, 0), dtype=torch.long)\n",
    "new_data = Data(x=node_embeddings, edge_index=edge_index)\n",
    "\n",
    "new_data.batch = torch.zeros(new_data.x.size(0), dtype=torch.long)\n",
    "\n",
    "model = model.to(device)\n",
    "new_data = new_data.to(device)\n",
    "\n",
    "with torch.no_grad():\n",
    "    output = model(new_data)\n",
    "    prediction = output.argmax(dim=1).item()  # Get the predicted class (0 or 1)\n",
    "    print(f\"Prediction for the binary: {'Malware' if prediction == 1 else 'Benign'}\")\n"
   ]
  },
  {
   "cell_type": "code",
   "execution_count": null,
   "metadata": {},
   "outputs": [],
   "source": []
  }
 ],
 "metadata": {
  "kernelspec": {
   "display_name": ".venv",
   "language": "python",
   "name": "python3"
  },
  "language_info": {
   "codemirror_mode": {
    "name": "ipython",
    "version": 3
   },
   "file_extension": ".py",
   "mimetype": "text/x-python",
   "name": "python",
   "nbconvert_exporter": "python",
   "pygments_lexer": "ipython3",
   "version": "3.12.2"
  }
 },
 "nbformat": 4,
 "nbformat_minor": 2
}
